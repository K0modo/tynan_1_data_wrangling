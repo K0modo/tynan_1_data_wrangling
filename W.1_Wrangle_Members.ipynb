{
 "cells": [
  {
   "cell_type": "markdown",
   "id": "a45ab9b1-38bf-4da5-b10a-a9aaceb871fa",
   "metadata": {
    "pycharm": {
     "name": "#%% md\n"
    },
    "tags": []
   },
   "source": [
    "## W.1 Wrangle Member ID's"
   ]
  },
  {
   "cell_type": "markdown",
   "id": "0806ed72-33d6-41ac-ab39-b99511ef8861",
   "metadata": {
    "pycharm": {
     "name": "#%% md\n"
    }
   },
   "source": [
    "### Table of Contents"
   ]
  },
  {
   "cell_type": "markdown",
   "id": "f390ec56-c22a-4385-818e-a60ed04ac5b7",
   "metadata": {
    "pycharm": {
     "name": "#%% md\n"
    }
   },
   "source": [
    "1. <a href= \"#1.-Observations-&-Goals\">Observations & Goals</a>\n",
    "2. <a href= \"#2.-Python-Libraries-&-Tools\">Python Libraries & Tools</a>\n",
    "3. <a href= \"#3.-Notebook-Settings\">Notebook Settings</a>\n",
    "4. <a href= \"#4.-Data-Source\">Data Source</a>\n",
    "5. <a href= \"#5.-Split-Trailing-Digits-off-ID\">Split Trailing Digits from ID</a>\n",
    "6. <a href= \"#6.-Strip-Alpha-off-ID\">Strip Legacy Alpha from ID</a>\n",
    "7. <a href= \"#7.-Find-Unique-ID's\">Find Unique ID</a>\n",
    "8. <a href= \"#8.-Assign-Random-ID's\">Assign New ID</a>\n",
    "9. <a href= \"#9.-Map-Old-ID-to-New-ID\">Create Dictionary to Map Old to New ID</a>\n",
    "10. <a href= \"#10.-Replace-Old-ID-with-New-ID\">Replace Old with New ID</a>\n",
    "11. <a href= \"#11.-Map-Low-Count-Mem_SubNum\">Consolidate and Map Low Use IDs</a>\n",
    "12. <a href= \"#12.-Create-New-column-for-Member_Acct\">Add Column for Mem-Acct (New IDs)</a>\n",
    "13. <a href= \"#13.-Reorder-New-columns\">Reorder DataFrame Columns</a>\n",
    "14. <a href= \"#14.-Analytics\">Analytics</a>"
   ]
  },
  {
   "cell_type": "markdown",
   "id": "ae2308bf-cf80-49a1-85c5-c18f8b04cb86",
   "metadata": {
    "pycharm": {
     "name": "#%% md\n"
    }
   },
   "source": [
    "### 1. Observations & Goals"
   ]
  },
  {
   "cell_type": "markdown",
   "id": "b7d7c459-8f6e-46a6-8876-912021156f99",
   "metadata": {
    "pycharm": {
     "name": "#%% md\n"
    }
   },
   "source": [
    "Observation:  Members IDs are a combination of primary member and dependents.  The ID is inconsistently stored as strings of different lengths.\n",
    "\n",
    "Goal: Standardize and assign random ID's.   "
   ]
  },
  {
   "cell_type": "markdown",
   "id": "9a840a19-8351-434c-9fc3-1791cd5135d6",
   "metadata": {
    "pycharm": {
     "name": "#%% md\n"
    }
   },
   "source": [
    "### 2. Python Libraries & Tools"
   ]
  },
  {
   "cell_type": "code",
   "execution_count": null,
   "id": "2e3e08b1-9899-4195-b17e-726fedbf313c",
   "metadata": {
    "pycharm": {
     "is_executing": true,
     "name": "#%%\n"
    }
   },
   "outputs": [],
   "source": [
    "import numpy as np\n",
    "import pandas as pd\n",
    "\n",
    "\n",
    "import matplotlib.pyplot as plt\n",
    "import matplotlib.ticker as ticker\n",
    "import seaborn as sns\n",
    "\n",
    "from IPython import display\n",
    "\n",
    "from pivottablejs import pivot_ui\n",
    "import ipypivot as pt\n",
    "\n",
    "# pd.read_clipboard()"
   ]
  },
  {
   "cell_type": "markdown",
   "id": "d3ce5b4c-1cdf-4f50-8df4-9a874104917d",
   "metadata": {
    "pycharm": {
     "name": "#%% md\n"
    }
   },
   "source": [
    "[<a href='#Table-of-Contents'>Table of Contents</a>]"
   ]
  },
  {
   "cell_type": "markdown",
   "id": "29936d50-2fbb-4967-9dc7-7d0b450f86be",
   "metadata": {
    "pycharm": {
     "name": "#%% md\n"
    }
   },
   "source": [
    "### 3. Notebook Settings"
   ]
  },
  {
   "cell_type": "code",
   "execution_count": 5,
   "id": "b86cb8bd-e9aa-4232-be48-b62539f46ef5",
   "metadata": {
    "pycharm": {
     "name": "#%%\n"
    }
   },
   "outputs": [
    {
     "data": {
      "text/plain": [
       "1000"
      ]
     },
     "execution_count": 5,
     "metadata": {},
     "output_type": "execute_result"
    }
   ],
   "source": [
    "from IPython.core.interactiveshell import InteractiveShell\n",
    "InteractiveShell.ast_node_interactivity = \"all\"\n",
    "\n",
    "\n",
    "pd.options.display.width\n",
    "\n",
    "pd.set_option('display.max_rows', 500)\n",
    "pd.set_option('display.max_columns', 500)\n",
    "pd.set_option('display.width', 1000)\n",
    "\n",
    "pd.options.display.float_format = '{:,.0f}'.format\n",
    "\n",
    "\n",
    "import winsound\n",
    "duration = 1300\n",
    "freq = 440"
   ]
  },
  {
   "cell_type": "markdown",
   "id": "30e2b4a6-e203-42ef-bbd8-12d2e0848680",
   "metadata": {
    "pycharm": {
     "name": "#%% md\n"
    }
   },
   "source": [
    "[<a href='#Table-of-Contents'>Table of Contents</a>]"
   ]
  },
  {
   "cell_type": "markdown",
   "id": "6dba2e1f-cf59-4e76-aeac-860e1959e256",
   "metadata": {
    "pycharm": {
     "name": "#%% md\n"
    }
   },
   "source": [
    "### 4. Data Source"
   ]
  },
  {
   "cell_type": "code",
   "execution_count": 14,
   "id": "1f397354-eb57-4445-8641-16d7c4d35375",
   "metadata": {
    "pycharm": {
     "name": "#%%\n"
    }
   },
   "outputs": [],
   "source": [
    "df = pd.read_pickle('DataFiles/AnnualpickleApr28')\n",
    "\n",
    "winsound.Beep(freq,duration)"
   ]
  },
  {
   "cell_type": "markdown",
   "id": "a757a08b-3601-41e1-96fe-4dc473766e15",
   "metadata": {
    "pycharm": {
     "name": "#%% md\n"
    },
    "tags": []
   },
   "source": [
    "### 5. Split Trailing Digits off ID"
   ]
  },
  {
   "cell_type": "code",
   "execution_count": null,
   "id": "29095da9-6915-46f0-9311-2135648cc797",
   "metadata": {
    "pycharm": {
     "name": "#%%\n"
    },
    "tags": []
   },
   "outputs": [],
   "source": [
    "# PURPOSE: Separte SubNum from primary Member_Number.  This will help with analytics of members\n",
    "#  with multiple dependents.\n",
    "\n",
    "# df[['Member_Number','Member_SubNum']] = df['Member_Number'].str.split('-', expand=True)\n",
    "# df.Member_Number.value_counts()"
   ]
  },
  {
   "cell_type": "markdown",
   "id": "a54c5e7a-3efe-41fe-9546-51522d3dc4a2",
   "metadata": {
    "pycharm": {
     "name": "#%% md\n"
    }
   },
   "source": [
    "[<a href='#Table-of-Contents'>Table of Contents</a>]"
   ]
  },
  {
   "cell_type": "markdown",
   "id": "bd9f994c-916f-4820-8eac-3c908b30d967",
   "metadata": {
    "pycharm": {
     "name": "#%% md\n"
    },
    "tags": []
   },
   "source": [
    "### 6. Strip Alpha off ID"
   ]
  },
  {
   "cell_type": "code",
   "execution_count": null,
   "id": "bf40f1f6-2382-4b96-83a6-e416a1b90abf",
   "metadata": {
    "pycharm": {
     "name": "#%%\n"
    },
    "tags": []
   },
   "outputs": [],
   "source": [
    "# PURPOSE: Remove legacy system alpha characters that are no longer used.\n",
    "\n",
    "# df['Member_Number'] = df['Member_Number'].str.slice(2, )\n",
    "# df.Member_Number."
   ]
  },
  {
   "cell_type": "markdown",
   "id": "e59d3f7f-7ca3-41db-8dd2-123ccc0023f0",
   "metadata": {
    "pycharm": {
     "name": "#%% md\n"
    }
   },
   "source": [
    "[<a href='#Table-of-Contents'>Table of Contents</a>]"
   ]
  },
  {
   "cell_type": "markdown",
   "id": "e428b58e-2988-4d3d-a204-8f5b320985a0",
   "metadata": {
    "pycharm": {
     "name": "#%% md\n"
    }
   },
   "source": [
    "### 7. Find Unique ID's"
   ]
  },
  {
   "cell_type": "code",
   "execution_count": null,
   "id": "faa45136-88d3-4144-9a51-b3a9fd4ebb06",
   "metadata": {
    "pycharm": {
     "name": "#%%\n"
    }
   },
   "outputs": [],
   "source": [
    "# PURPOSE: Find unique ID's which can be assigned new numbers.\n",
    "\n",
    "# dictmember1 = df.Member_Number.unique()\n",
    "# dictmember1['Old_Num'] = pd.DataFrame(dictmember1)"
   ]
  },
  {
   "cell_type": "markdown",
   "id": "5467fe0f-9a1f-40fc-814a-ab3f9327a931",
   "metadata": {
    "pycharm": {
     "name": "#%% md\n"
    }
   },
   "source": [
    "[<a href='#Table-of-Contents'>Table of Contents</a>]"
   ]
  },
  {
   "cell_type": "markdown",
   "id": "6b43565f-b282-4bdf-92c8-e71613b10ccc",
   "metadata": {
    "pycharm": {
     "name": "#%% md\n"
    },
    "tags": []
   },
   "source": [
    "### 8. Assign Random ID's"
   ]
  },
  {
   "cell_type": "code",
   "execution_count": null,
   "id": "06dcbb00-bdc7-401d-8299-affd4741750c",
   "metadata": {
    "pycharm": {
     "name": "#%%\n"
    },
    "tags": []
   },
   "outputs": [],
   "source": [
    "# PURPOSE: Assign new ID numbers using Random Number assignment.\n",
    "\n",
    "# import random\n",
    "# min = 10000\n",
    "# max = 999999\n",
    "\n",
    "# dictmember1['New_Num'] = [str(random.randint(min,max)) for i in range(len(dictmember1))]\n",
    "# dictmember1['New_Num'] = [(len(str(max))-len(digit))*'0'+digit for digit in dictmember1['New_Num']]\n",
    "# dictmember1.sort_values('New_Num')\n",
    "# dictmember1.duplicated().sum()"
   ]
  },
  {
   "cell_type": "markdown",
   "id": "fa55a40f-acd0-4cdf-a385-a36a2a6b7fd0",
   "metadata": {
    "pycharm": {
     "name": "#%% md\n"
    }
   },
   "source": [
    "[<a href='#Table-of-Contents'>Table of Contents</a>]"
   ]
  },
  {
   "cell_type": "markdown",
   "id": "874be5f1-4c1d-4cd5-bf49-48ee59c62777",
   "metadata": {
    "pycharm": {
     "name": "#%% md\n"
    }
   },
   "source": [
    "### 9. Map Old ID to New ID"
   ]
  },
  {
   "cell_type": "code",
   "execution_count": null,
   "id": "33375980-1f5a-47e4-9c13-f6cd2872ddbb",
   "metadata": {
    "pycharm": {
     "name": "#%%\n"
    }
   },
   "outputs": [],
   "source": [
    "# PURPOSE: Create dictionary to map old numbers to new Random Numbers generated in Step 4.\n",
    "\n",
    "# dictmember1_dict = dictmember1.set_index('Old_Num').to_dict()['New_Num']"
   ]
  },
  {
   "cell_type": "markdown",
   "id": "701849a2-cb42-44ee-baaf-67119f5dfe33",
   "metadata": {
    "pycharm": {
     "name": "#%% md\n"
    }
   },
   "source": [
    "[<a href='#Table-of-Contents'>Table of Contents</a>]"
   ]
  },
  {
   "cell_type": "markdown",
   "id": "da42ae98-30b3-420d-9815-2fed2651f1d4",
   "metadata": {
    "pycharm": {
     "name": "#%% md\n"
    },
    "tags": []
   },
   "source": [
    "### 10. Replace Old ID with New ID"
   ]
  },
  {
   "cell_type": "code",
   "execution_count": null,
   "id": "a1e0bbe0-5ba4-4b7f-b0b7-88d184b5459f",
   "metadata": {
    "pycharm": {
     "name": "#%%\n"
    },
    "tags": []
   },
   "outputs": [],
   "source": [
    "# PURPOSE: Apply Dictionary in Step 5 and replace old numbers.\n",
    "\n",
    "# df.replace({'Member_Number':dictmember1_dict}, inplace = True)\n",
    "# df.Member_Number.nunique()\n",
    "# df.Member_Number.sort_values"
   ]
  },
  {
   "cell_type": "markdown",
   "id": "e06d092b-9019-4d7b-8305-02a38a641b2f",
   "metadata": {
    "pycharm": {
     "name": "#%% md\n"
    }
   },
   "source": [
    "[<a href='#Table-of-Contents'>Table of Contents</a>]"
   ]
  },
  {
   "cell_type": "markdown",
   "id": "f9885b9b-a96a-4cc8-ad89-bb9def2f8b09",
   "metadata": {
    "pycharm": {
     "name": "#%% md\n"
    },
    "tags": []
   },
   "source": [
    "### 11. Map Low Count Mem_SubNum"
   ]
  },
  {
   "cell_type": "code",
   "execution_count": null,
   "id": "13142bbc-3890-41ee-b077-5b777be55734",
   "metadata": {
    "pycharm": {
     "name": "#%%\n"
    },
    "tags": []
   },
   "outputs": [],
   "source": [
    "# PURPOSE: Consolidate low count SubNum for streamlining analytics\n",
    "\n",
    "# df.Member_SubNum.value_counts()\n",
    "# Mem_Level_dict = { \\\n",
    "#                   '06':'05',\\\n",
    "#                   '07':'05',\\\n",
    "#                   '08':'04'}\n",
    "\n",
    "# df.replace({'Member_SubNum':Mem_Level_dict}, inplace=True)\n",
    "\n",
    "# df.Member_SubNum.sort_values()"
   ]
  },
  {
   "cell_type": "markdown",
   "id": "ce8b67f9-5731-425f-b62a-998bbab6afe5",
   "metadata": {
    "pycharm": {
     "name": "#%% md\n"
    }
   },
   "source": [
    "[<a href='#Table-of-Contents'>Table of Contents</a>]"
   ]
  },
  {
   "cell_type": "markdown",
   "id": "8050039f-7f23-41ab-a803-009d9ee49255",
   "metadata": {
    "jupyter": {
     "outputs_hidden": true
    },
    "pycharm": {
     "name": "#%% md\n"
    },
    "tags": []
   },
   "source": [
    "### 12. Create New column for Member_Acct"
   ]
  },
  {
   "cell_type": "code",
   "execution_count": null,
   "id": "29a7d081-2812-4ef5-aea3-fb88a3968992",
   "metadata": {
    "pycharm": {
     "name": "#%%\n"
    },
    "tags": []
   },
   "outputs": [],
   "source": [
    "# PURPOSE: Create column for Mem_Acct created after stripping (Step 1 and 2) and assigning \n",
    "# new ID's (Step 5)\n",
    "\n",
    "# df['Member_Acct'] = df.agg('{0[Member_Number]}-{0[Member_SubNum]}'.format, axis=1)\n",
    "# df.loc[:,['Member_Number', 'Member_SubNum', 'Member_Acct']]"
   ]
  },
  {
   "cell_type": "markdown",
   "id": "f6fdae22-1dd3-4290-a76e-d4aa32fb0060",
   "metadata": {
    "pycharm": {
     "name": "#%% md\n"
    }
   },
   "source": [
    "[<a href='#Table-of-Contents'>Table of Conents</a>]"
   ]
  },
  {
   "cell_type": "markdown",
   "id": "0c469144-a878-4d4e-9410-33a0ccc84b1d",
   "metadata": {
    "pycharm": {
     "name": "#%% md\n"
    }
   },
   "source": [
    "### 13. Reorder New columns"
   ]
  },
  {
   "cell_type": "code",
   "execution_count": null,
   "id": "cff752f5-380b-44e0-953b-0eb9777b18d3",
   "metadata": {
    "pycharm": {
     "name": "#%%\n"
    }
   },
   "outputs": [],
   "source": [
    "# PURPOSE: Reorder dataframe columns to improve readability.\n",
    "\n",
    "# df = df[[\n",
    "#      'clm_cc2', 'Member_Number', 'Member_SubNum', 'Member_Acct', 'Provider_ID', 'Provider_Qual', 'Provider_Specialty_Code', \\\n",
    "#      'Provider_Specialty_Desc', 'Provider_Facility', 'Claim_ID', 'Claim_Line_Item', \\\n",
    "#      'Claim_File_Date', 'Claim_POS', 'Claim_Bill_Code', 'Claim_Bill_Desc', \\\n",
    "#      'Claim_Bill_Proce_Code', 'Claim_Bill_Proce_Desc', 'Diagnosis_ICD1', 'Diagnosis_ICD2', \\\n",
    "#      'Diagnosis_ICD3', 'Claim_Benefit', 'Claim_Charge', 'Claim_Allowed', 'Claim_CoPay',\\\n",
    "#      'Claim_Deduct', 'Claim_CoInsur', 'Claim_Clearing_Account', 'Claim_Other1', \\\n",
    "#      'Claim_Other2', 'Claim_Other3', 'Claim_Owed', 'Pay_Transaction_ID', \\\n",
    "#      'Claim_Pay_Date']]\n",
    "\n",
    "\n",
    "# df.rename(columns={'Member_Number':'Member_Acct', 'Member_SubNum':'Member_SubAcct',\\\n",
    "                   # 'Member_Acct':'Member_ID'}, inplace = True)"
   ]
  },
  {
   "cell_type": "markdown",
   "id": "8846511f-40c3-42dd-bfbc-2818a4385450",
   "metadata": {
    "pycharm": {
     "name": "#%% md\n"
    }
   },
   "source": [
    "[<a href='#Table-of-Contents'>Table of Contents</a>]"
   ]
  },
  {
   "cell_type": "markdown",
   "id": "e5d05af0-b433-4bde-8618-fcf4527a11c6",
   "metadata": {
    "pycharm": {
     "name": "#%% md\n"
    }
   },
   "source": [
    "### 14. Analytics"
   ]
  },
  {
   "cell_type": "markdown",
   "id": "f727ae62-a3f4-46e4-b0db-fbfef67b747a",
   "metadata": {
    "pycharm": {
     "name": "#%% md\n"
    }
   },
   "source": [
    "#### Analytics for Paid Claims"
   ]
  },
  {
   "cell_type": "code",
   "execution_count": 157,
   "id": "2a65cc9e-a6cf-4a97-8cd5-7116a6f71e6c",
   "metadata": {
    "pycharm": {
     "name": "#%%\n"
    }
   },
   "outputs": [
    {
     "data": {
      "text/plain": [
       "148730"
      ]
     },
     "execution_count": 157,
     "metadata": {},
     "output_type": "execute_result"
    }
   ],
   "source": [
    "dfp = df.loc[df.Charge_Paid > 0]\n",
    "dfp.Charge_Paid.count()"
   ]
  },
  {
   "cell_type": "code",
   "execution_count": 62,
   "id": "80f1dfe1-9717-49c8-8269-21425ff6c78d",
   "metadata": {
    "pycharm": {
     "name": "#%%\n"
    }
   },
   "outputs": [
    {
     "data": {
      "text/plain": [
       "'NUMBER OF MEMBERS WITH PAID CLAIMS DURING YEAR: 6,094'"
      ]
     },
     "execution_count": 62,
     "metadata": {},
     "output_type": "execute_result"
    }
   ],
   "source": [
    "out = 'NUMBER OF MEMBERS WITH PAID CLAIMS DURING YEAR'\n",
    "count = dfp.Mem_Acct.nunique()\n",
    "countf = \"{:,.0f}\".format(count)\n",
    "\n",
    "f\"{out}: {countf}\""
   ]
  },
  {
   "cell_type": "code",
   "execution_count": 169,
   "id": "eb566242-14e3-4045-af51-8d63b576b04e",
   "metadata": {
    "pycharm": {
     "name": "#%%\n"
    }
   },
   "outputs": [],
   "source": [
    "mem_count = dfp.value_counts('Mem_Acct')"
   ]
  },
  {
   "cell_type": "code",
   "execution_count": 170,
   "id": "72354b94-ad7e-44f9-b5a9-74d27832d0c6",
   "metadata": {
    "pycharm": {
     "name": "#%%\n"
    }
   },
   "outputs": [
    {
     "data": {
      "image/png": "[encoded data removed]",
      "text/plain": [
       "<Figure size 576x576 with 2 Axes>"
      ]
     },
     "metadata": {},
     "output_type": "display_data"
    }
   ],
   "source": [
    "formatter = '{x:,.0f}'\n",
    "\n",
    "plt.style.use('seaborn-dark-palette')\n",
    "\n",
    "fig, (ax1, ax2) = plt.subplots(2,1, figsize=(8,8))\n",
    "\n",
    "\n",
    "ax1.hist(mem_count, bins=20)\n",
    "ax2.hist(mem_count, bins=20, log=True)\n",
    "\n",
    "\n",
    "ax1.set_title('Histogram Bins - Number of Claims by Member')\n",
    "# ax1.set_xlabel('Bin')\n",
    "ax1.set_ylabel('Number of Claims')\n",
    "ax1.yaxis.set_major_formatter(formatter)\n",
    "\n",
    "ax2.set_title('Histogram Bins - Number of Claims by Member - Logrithmic')\n",
    "ax2.set_xlabel('BINS')\n",
    "ax2.set_ylabel('Number of Claims')\n",
    "ax2.yaxis.set_major_formatter(formatter)\n",
    "\n",
    "plt.tight_layout()\n",
    "plt.show();"
   ]
  },
  {
   "cell_type": "code",
   "execution_count": 151,
   "id": "eeeae3f8-b430-48d7-a7e5-e6197e01b94b",
   "metadata": {
    "pycharm": {
     "name": "#%%\n"
    }
   },
   "outputs": [
    {
     "data": {
      "image/png": "[encoded data removed]",
      "text/plain": [
       "<Figure size 576x432 with 1 Axes>"
      ]
     },
     "metadata": {},
     "output_type": "display_data"
    }
   ],
   "source": [
    "\n",
    "plt.style.use('seaborn-dark-palette')\n",
    "\n",
    "fig, ax = plt.subplots(figsize=(8,6))\n",
    "ax.boxplot(mem_count, patch_artist=True,\n",
    "        showmeans=True,\n",
    "        meanprops={'marker':'s', 'markerfacecolor': 'white', 'markersize':8},\n",
    "        showfliers=False,\n",
    "        medianprops={'color':'white', 'linewidth':1},\n",
    "        boxprops={'edgecolor':'white','linewidth':0.5},\n",
    "        whiskerprops={'linewidth':1.5},\n",
    "        capprops={'linewidth':1.5})\n",
    "\n",
    "ax.set_title('Number of Claims By Member \\n With Median (--) and Mean')\n",
    "ax.set_xlabel('Annual')\n",
    "ax.set_ylabel('Bin Count')\n",
    "ax.tick_params(labelbottom=False)\n",
    "plt.show();"
   ]
  },
  {
   "cell_type": "code",
   "execution_count": 155,
   "id": "b53cea40-7ce1-442f-82e4-ee35d86ca870",
   "metadata": {
    "pycharm": {
     "name": "#%%\n"
    }
   },
   "outputs": [
    {
     "data": {
      "text/html": [
       "<div>\n",
       "<style scoped>\n",
       "    .dataframe tbody tr th:only-of-type {\n",
       "        vertical-align: middle;\n",
       "    }\n",
       "\n",
       "    .dataframe tbody tr th {\n",
       "        vertical-align: top;\n",
       "    }\n",
       "\n",
       "    .dataframe thead th {\n",
       "        text-align: right;\n",
       "    }\n",
       "</style>\n",
       "<table border=\"1\" class=\"dataframe\">\n",
       "  <thead>\n",
       "    <tr style=\"text-align: right;\">\n",
       "      <th>Pay_Period</th>\n",
       "      <th>1</th>\n",
       "      <th>2</th>\n",
       "      <th>3</th>\n",
       "      <th>4</th>\n",
       "      <th>5</th>\n",
       "      <th>6</th>\n",
       "      <th>7</th>\n",
       "      <th>8</th>\n",
       "      <th>9</th>\n",
       "      <th>10</th>\n",
       "      <th>11</th>\n",
       "      <th>12</th>\n",
       "    </tr>\n",
       "    <tr>\n",
       "      <th>Mem_Acct</th>\n",
       "      <th></th>\n",
       "      <th></th>\n",
       "      <th></th>\n",
       "      <th></th>\n",
       "      <th></th>\n",
       "      <th></th>\n",
       "      <th></th>\n",
       "      <th></th>\n",
       "      <th></th>\n",
       "      <th></th>\n",
       "      <th></th>\n",
       "      <th></th>\n",
       "    </tr>\n",
       "  </thead>\n",
       "  <tbody>\n",
       "    <tr>\n",
       "      <th>100129</th>\n",
       "      <td>1</td>\n",
       "      <td>1</td>\n",
       "      <td>0</td>\n",
       "      <td>0</td>\n",
       "      <td>0</td>\n",
       "      <td>0</td>\n",
       "      <td>0</td>\n",
       "      <td>0</td>\n",
       "      <td>0</td>\n",
       "      <td>0</td>\n",
       "      <td>0</td>\n",
       "      <td>0</td>\n",
       "    </tr>\n",
       "    <tr>\n",
       "      <th>100196</th>\n",
       "      <td>7</td>\n",
       "      <td>0</td>\n",
       "      <td>1</td>\n",
       "      <td>6</td>\n",
       "      <td>2</td>\n",
       "      <td>0</td>\n",
       "      <td>0</td>\n",
       "      <td>0</td>\n",
       "      <td>0</td>\n",
       "      <td>0</td>\n",
       "      <td>0</td>\n",
       "      <td>0</td>\n",
       "    </tr>\n",
       "    <tr>\n",
       "      <th>100257</th>\n",
       "      <td>0</td>\n",
       "      <td>0</td>\n",
       "      <td>1</td>\n",
       "      <td>0</td>\n",
       "      <td>0</td>\n",
       "      <td>0</td>\n",
       "      <td>0</td>\n",
       "      <td>0</td>\n",
       "      <td>0</td>\n",
       "      <td>0</td>\n",
       "      <td>0</td>\n",
       "      <td>0</td>\n",
       "    </tr>\n",
       "    <tr>\n",
       "      <th>100341</th>\n",
       "      <td>6</td>\n",
       "      <td>2</td>\n",
       "      <td>3</td>\n",
       "      <td>0</td>\n",
       "      <td>0</td>\n",
       "      <td>0</td>\n",
       "      <td>0</td>\n",
       "      <td>0</td>\n",
       "      <td>0</td>\n",
       "      <td>0</td>\n",
       "      <td>0</td>\n",
       "      <td>0</td>\n",
       "    </tr>\n",
       "    <tr>\n",
       "      <th>10049</th>\n",
       "      <td>0</td>\n",
       "      <td>0</td>\n",
       "      <td>0</td>\n",
       "      <td>0</td>\n",
       "      <td>1</td>\n",
       "      <td>4</td>\n",
       "      <td>5</td>\n",
       "      <td>5</td>\n",
       "      <td>5</td>\n",
       "      <td>12</td>\n",
       "      <td>10</td>\n",
       "      <td>3</td>\n",
       "    </tr>\n",
       "    <tr>\n",
       "      <th>...</th>\n",
       "      <td>...</td>\n",
       "      <td>...</td>\n",
       "      <td>...</td>\n",
       "      <td>...</td>\n",
       "      <td>...</td>\n",
       "      <td>...</td>\n",
       "      <td>...</td>\n",
       "      <td>...</td>\n",
       "      <td>...</td>\n",
       "      <td>...</td>\n",
       "      <td>...</td>\n",
       "      <td>...</td>\n",
       "    </tr>\n",
       "    <tr>\n",
       "      <th>999474</th>\n",
       "      <td>0</td>\n",
       "      <td>0</td>\n",
       "      <td>0</td>\n",
       "      <td>0</td>\n",
       "      <td>0</td>\n",
       "      <td>0</td>\n",
       "      <td>0</td>\n",
       "      <td>1</td>\n",
       "      <td>18</td>\n",
       "      <td>0</td>\n",
       "      <td>0</td>\n",
       "      <td>0</td>\n",
       "    </tr>\n",
       "    <tr>\n",
       "      <th>999715</th>\n",
       "      <td>1</td>\n",
       "      <td>3</td>\n",
       "      <td>1</td>\n",
       "      <td>0</td>\n",
       "      <td>2</td>\n",
       "      <td>0</td>\n",
       "      <td>7</td>\n",
       "      <td>0</td>\n",
       "      <td>0</td>\n",
       "      <td>0</td>\n",
       "      <td>0</td>\n",
       "      <td>0</td>\n",
       "    </tr>\n",
       "    <tr>\n",
       "      <th>999785</th>\n",
       "      <td>5</td>\n",
       "      <td>0</td>\n",
       "      <td>6</td>\n",
       "      <td>0</td>\n",
       "      <td>0</td>\n",
       "      <td>0</td>\n",
       "      <td>0</td>\n",
       "      <td>0</td>\n",
       "      <td>0</td>\n",
       "      <td>0</td>\n",
       "      <td>0</td>\n",
       "      <td>0</td>\n",
       "    </tr>\n",
       "    <tr>\n",
       "      <th>99991</th>\n",
       "      <td>0</td>\n",
       "      <td>3</td>\n",
       "      <td>3</td>\n",
       "      <td>1</td>\n",
       "      <td>0</td>\n",
       "      <td>0</td>\n",
       "      <td>0</td>\n",
       "      <td>0</td>\n",
       "      <td>0</td>\n",
       "      <td>0</td>\n",
       "      <td>0</td>\n",
       "      <td>0</td>\n",
       "    </tr>\n",
       "    <tr>\n",
       "      <th>999930</th>\n",
       "      <td>2</td>\n",
       "      <td>1</td>\n",
       "      <td>0</td>\n",
       "      <td>1</td>\n",
       "      <td>0</td>\n",
       "      <td>0</td>\n",
       "      <td>0</td>\n",
       "      <td>0</td>\n",
       "      <td>0</td>\n",
       "      <td>0</td>\n",
       "      <td>0</td>\n",
       "      <td>0</td>\n",
       "    </tr>\n",
       "  </tbody>\n",
       "</table>\n",
       "<p>6094 rows × 12 columns</p>\n",
       "</div>"
      ],
      "text/plain": [
       "Pay_Period  1   2   3   4   5   6   7   8   9   10  11  12\n",
       "Mem_Acct                                                  \n",
       "100129       1   1   0   0   0   0   0   0   0   0   0   0\n",
       "100196       7   0   1   6   2   0   0   0   0   0   0   0\n",
       "100257       0   0   1   0   0   0   0   0   0   0   0   0\n",
       "100341       6   2   3   0   0   0   0   0   0   0   0   0\n",
       "10049        0   0   0   0   1   4   5   5   5  12  10   3\n",
       "...         ..  ..  ..  ..  ..  ..  ..  ..  ..  ..  ..  ..\n",
       "999474       0   0   0   0   0   0   0   1  18   0   0   0\n",
       "999715       1   3   1   0   2   0   7   0   0   0   0   0\n",
       "999785       5   0   6   0   0   0   0   0   0   0   0   0\n",
       "99991        0   3   3   1   0   0   0   0   0   0   0   0\n",
       "999930       2   1   0   1   0   0   0   0   0   0   0   0\n",
       "\n",
       "[6094 rows x 12 columns]"
      ]
     },
     "execution_count": 155,
     "metadata": {},
     "output_type": "execute_result"
    }
   ],
   "source": [
    "mem_pvt_mo = dfp.pivot_table(index='Mem_Acct',\n",
    "               columns='Pay_Period',\n",
    "               values='Charge_Paid',\n",
    "               aggfunc='count',\n",
    "               fill_value=0)\n",
    "mem_pvt_mo"
   ]
  },
  {
   "cell_type": "code",
   "execution_count": 166,
   "id": "5f23b1ed-8184-460c-b44d-117c031fd752",
   "metadata": {
    "pycharm": {
     "name": "#%%\n"
    }
   },
   "outputs": [
    {
     "data": {
      "image/png": "[encoded data removed]",
      "text/plain": [
       "<Figure size 576x432 with 1 Axes>"
      ]
     },
     "metadata": {},
     "output_type": "display_data"
    }
   ],
   "source": [
    "plt.style.use('seaborn-dark-palette')\n",
    "\n",
    "fig, ax = plt.subplots(figsize=(8,6))\n",
    "ax.boxplot(mem_pvt_mo, patch_artist=True,\n",
    "        showmeans=True,\n",
    "        meanprops={'marker':'s', 'markerfacecolor': 'white', 'markersize':8},\n",
    "        showfliers=False,\n",
    "        medianprops={'color':'white', 'linewidth':1},\n",
    "        boxprops={'edgecolor':'white','linewidth':0.5},\n",
    "        whiskerprops={'linewidth':1.5},\n",
    "        capprops={'linewidth':1.5})\n",
    "\n",
    "ax.set_title('Distribution of Member Claims By Period \\n With Median (--) and Mean')\n",
    "ax.set_xlabel('Period')\n",
    "ax.set_ylabel('Bin Count')\n",
    "\n",
    "plt.show();"
   ]
  },
  {
   "cell_type": "markdown",
   "id": "8438cbe0-7517-4560-8cfc-cdd693e097b5",
   "metadata": {
    "pycharm": {
     "name": "#%% md\n"
    }
   },
   "source": [
    "[<a href='#Table-of-Contents'>Table of Contents</a>]"
   ]
  },
  {
   "cell_type": "code",
   "execution_count": null,
   "id": "157a86b9-c3da-4401-89a2-a98ec3c68d1c",
   "metadata": {
    "pycharm": {
     "name": "#%%\n"
    }
   },
   "outputs": [],
   "source": []
  },
  {
   "cell_type": "code",
   "execution_count": 13,
   "id": "db3d30f9-3578-4453-a56e-c532282bda56",
   "metadata": {
    "pycharm": {
     "name": "#%%\n"
    }
   },
   "outputs": [],
   "source": [
    "df.to_pickle('DataFiles/AnnualpickleApr28')"
   ]
  }
 ],
 "metadata": {
  "kernelspec": {
   "display_name": "Python 3 (ipykernel)",
   "language": "python",
   "name": "python3"
  },
  "language_info": {
   "codemirror_mode": {
    "name": "ipython",
    "version": 3
   },
   "file_extension": ".py",
   "mimetype": "text/x-python",
   "name": "python",
   "nbconvert_exporter": "python",
   "pygments_lexer": "ipython3",
   "version": "3.11.5"
  }
 },
 "nbformat": 4,
 "nbformat_minor": 5
}
