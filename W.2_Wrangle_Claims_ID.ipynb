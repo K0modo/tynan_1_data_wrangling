{
 "cells": [
  {
   "cell_type": "markdown",
   "id": "ae86e3b6-4ed3-4e60-874e-12e415d01b48",
   "metadata": {},
   "source": [
    "## W.2 Wrangle Claims_ID"
   ]
  },
  {
   "cell_type": "markdown",
   "id": "0e78ac96-85f1-4569-a453-fcefcfcc4aae",
   "metadata": {},
   "source": [
    "### Table of Contents"
   ]
  },
  {
   "cell_type": "markdown",
   "id": "1be9d791-81e9-44aa-939f-5b03b12c156d",
   "metadata": {},
   "source": [
    "1. <a href= \"#1.-Observations-&-Goals\">Observations & Goals</a>\n",
    "2. <a href= \"#2.-Python-Libraries-&-Tools\">Python Libraries & Tools</a>\n",
    "3. <a href= \"#3.-Notebook-Settings\">Notebook Settings</a>\n",
    "4. <a href= \"#4.-Data-Source\">Data Source</a>\n",
    "5. <a href='#5.-Find-Unique-Claim-ID-and-Assign-New-ID'>Find Unique Claim ID and Assign New ID</a>\n",
    "6. <a href='#6.-Create-Dictionary-to-Map-Old-to-New-Claim-ID'>Create Dictionary to Map Old to New Claim ID</a>\n",
    "7. <a href='#7.-Replace-Old-with-New-Claim-ID'>Replace Old with New Claim ID</a>\n",
    "8. <a href='#8.-Analytics'>Analytics</a>"
   ]
  },
  {
   "cell_type": "markdown",
   "id": "7dc68caf-1edc-4db3-bdbc-395fc080b040",
   "metadata": {},
   "source": [
    "### 1. Observations & Goals"
   ]
  },
  {
   "cell_type": "markdown",
   "id": "48c02e94-fb8f-418c-8403-efb09cf09f0a",
   "metadata": {},
   "source": [
    "Observation: Medical Claim IDs are used to control claims submitted by providers.  The ID structure stored in the database has changed over the years.  A claim is normally submitted by a provider and includes 1 or more line items per member.\n",
    "\n",
    "Goal: Standardize and assign random claim IDs."
   ]
  },
  {
   "cell_type": "markdown",
   "id": "46262bf6-35de-4330-99cb-e92d75bc2b62",
   "metadata": {},
   "source": [
    "### 2. Python Libraries & Tools"
   ]
  },
  {
   "cell_type": "code",
   "execution_count": 107,
   "id": "f99559e0-14fa-4c31-807a-74c763875bba",
   "metadata": {},
   "outputs": [],
   "source": [
    "import numpy as np\n",
    "import pandas as pd\n",
    "\n",
    "import matplotlib.pyplot as plt\n",
    "import matplotlib.ticker as ticker    \n",
    "\n",
    "from IPython import display\n",
    "\n",
    "from pivottablejs import pivot_ui\n",
    "import ipypivot as pt\n",
    "\n",
    "# pd.read_clipboard()"
   ]
  },
  {
   "cell_type": "markdown",
   "id": "74da9788-599d-4f0d-8763-bbb1b9e2e6fb",
   "metadata": {},
   "source": [
    "[<a href='#Table-of-Contents'>Table of Contents</a>]"
   ]
  },
  {
   "cell_type": "markdown",
   "id": "860e4281-4d41-4488-9242-e633ca39f8b4",
   "metadata": {},
   "source": [
    "### 3. Notebook Settings"
   ]
  },
  {
   "cell_type": "code",
   "execution_count": 8,
   "id": "b24f392e-f3b6-4e48-a469-0409d804617e",
   "metadata": {
    "tags": []
   },
   "outputs": [
    {
     "data": {
      "text/plain": [
       "1000"
      ]
     },
     "execution_count": 8,
     "metadata": {},
     "output_type": "execute_result"
    }
   ],
   "source": [
    "from IPython.core.interactiveshell import InteractiveShell\n",
    "InteractiveShell.ast_node_interactivity = \"all\"\n",
    "\n",
    "\n",
    "pd.set_option('display.max_rows', 500)\n",
    "pd.set_option('display.max_columns', 500)\n",
    "pd.set_option('display.width', 1000)\n",
    "pd.options.display.width\n",
    "\n",
    "pd.options.display.float_format = '{:,.0f}'.format\n",
    "\n",
    "\n",
    "import winsound\n",
    "duration = 1300\n",
    "freq = 440\n"
   ]
  },
  {
   "cell_type": "markdown",
   "id": "7b7d227e-4d89-4707-8f23-c654e915a6dc",
   "metadata": {},
   "source": [
    "[<a href='#Table-of-Contents'>Table of Contents</a>]"
   ]
  },
  {
   "cell_type": "markdown",
   "id": "1c9d32e0-447a-4514-81b8-5dd8bd5ddd4c",
   "metadata": {},
   "source": [
    "### 4. Data Source"
   ]
  },
  {
   "cell_type": "code",
   "execution_count": 9,
   "id": "162868f4-ae01-4dce-b273-7d2cc7f85ddd",
   "metadata": {
    "tags": []
   },
   "outputs": [],
   "source": [
    "df = pd.read_pickle('DataFiles/AnnualpickleApr28')\n",
    "winsound.Beep(freq,duration)"
   ]
  },
  {
   "cell_type": "code",
   "execution_count": null,
   "id": "caa42c2e-ca38-4eea-b836-8415e1d1f4b9",
   "metadata": {
    "tags": []
   },
   "outputs": [],
   "source": []
  },
  {
   "cell_type": "markdown",
   "id": "7fd32592-b6d2-40c4-8b12-ee067ba85ec4",
   "metadata": {},
   "source": [
    "[<a href='#Table-of-Contents'>Table of Contents</a>]"
   ]
  },
  {
   "cell_type": "markdown",
   "id": "d5708be8-8f05-4b7f-893e-cb9af7fe932f",
   "metadata": {},
   "source": [
    "### 5. Find Unique Claim ID and Assign New ID"
   ]
  },
  {
   "cell_type": "code",
   "execution_count": 5,
   "id": "b2b0f2d3-fa88-47ca-ad54-094fed3d118f",
   "metadata": {},
   "outputs": [],
   "source": [
    "# PURPOSE: Existing Claim_IDs do not have uniform structure.  Identify unique Claim_ID and create Excel file for Random Number generation and assignment.\n",
    "\n",
    "Claim_Old_ID = df.Claim_ID.value_counts()\n",
    "Claim_Old_ID.to_excel('DataFiles\\Claims_ID_ReNum.xlsx',index=True)"
   ]
  },
  {
   "cell_type": "markdown",
   "id": "cb661440-d7a8-4c2d-895e-4de4275fa5d2",
   "metadata": {},
   "source": [
    "[<a href='#Table-of-Contents'>Table of Contents</a>]"
   ]
  },
  {
   "cell_type": "markdown",
   "id": "7dc69eeb-7032-4321-b936-28b764c3f697",
   "metadata": {},
   "source": [
    "### 6. Create Dictionary to Map Old to New Claim ID\n"
   ]
  },
  {
   "cell_type": "code",
   "execution_count": 6,
   "id": "aa1e6897-f5da-4c1b-9fbf-8de61507d888",
   "metadata": {},
   "outputs": [],
   "source": [
    "# PURPOSE: Import Excel file with New Claim Random Numbers.  Set Claim ID to dtype = int to increase mapping speed\n",
    "# when processing Dictionary in Step 3.\n",
    "\n",
    "Excel_Dict_Claims_Map = pd.ExcelFile('DataFiles\\Claims_ID_ReNum_ToDataframe.xlsx')\n",
    "\n",
    "Dict_Claims_Map = Excel_Dict_Claims_Map.set_index('OLD').to_dict()['NEW']\n"
   ]
  },
  {
   "cell_type": "markdown",
   "id": "08edd22e-ad9b-4a6c-9a10-3743e82d1f84",
   "metadata": {},
   "source": [
    "[<a href='#Table-of-Contents'>Table of Contents</a>]"
   ]
  },
  {
   "cell_type": "markdown",
   "id": "d6432efa-01d0-466c-8142-349da04eeb0c",
   "metadata": {
    "tags": []
   },
   "source": [
    "### 7. Replace Old with New Claim ID"
   ]
  },
  {
   "cell_type": "code",
   "execution_count": 18,
   "id": "1f43e21c-8bbc-4ada-a61e-10b7cc9cbbab",
   "metadata": {},
   "outputs": [],
   "source": [
    "# PURPOSE: Replace Old Claim_ID to New Claim_ID\n",
    "\n",
    "df.replace({'Claim_ID':Claims_Dict_Map}, inplace = True)\n",
    "\n",
    "winsound.Beep(freq,duration)"
   ]
  },
  {
   "cell_type": "markdown",
   "id": "40b12688-145d-4b61-a474-5b78a01a49a8",
   "metadata": {},
   "source": [
    "[<a href='#Table-of-Contents'>Table of Contents</a>]"
   ]
  },
  {
   "cell_type": "markdown",
   "id": "b7b9868e-53de-4a8e-b4a3-8a6e9c0b18e1",
   "metadata": {},
   "source": [
    "### 8. Analytics"
   ]
  },
  {
   "cell_type": "code",
   "execution_count": 84,
   "id": "212880b8-582d-4d5e-8935-f39fe824a416",
   "metadata": {},
   "outputs": [],
   "source": [
    "dfp = df.loc[df.Charge_Paid > 0]"
   ]
  },
  {
   "cell_type": "markdown",
   "id": "dba721da-fd6e-43b4-a233-8c8fb7c15f3e",
   "metadata": {},
   "source": [
    "#### Claims and Line Items Processed"
   ]
  },
  {
   "cell_type": "code",
   "execution_count": 40,
   "id": "77922c93-b89a-4f05-9c59-047fd5d39162",
   "metadata": {},
   "outputs": [
    {
     "data": {
      "text/plain": [
       "'The Total Number of Claims during the Year was 65,015'"
      ]
     },
     "execution_count": 40,
     "metadata": {},
     "output_type": "execute_result"
    },
    {
     "data": {
      "text/plain": [
       "'The Total Number of Line Items Claimed during the Year was 148,730'"
      ]
     },
     "execution_count": 40,
     "metadata": {},
     "output_type": "execute_result"
    }
   ],
   "source": [
    "\n",
    "claim_count = dfp.Claim_ID.nunique()\n",
    "claim_countf = '{:,.0f}'.format(claim_count)\n",
    "\n",
    "claim_line_count = dfp.Claim_Line_Item.count()\n",
    "claim_line_countf = '{:,.0f}'.format(claim_line_count)\n",
    "\n",
    "f\"The Total Number of Claims during the Year was {claim_countf}\"\n",
    "f\"The Total Number of Line Items Claimed during the Year was {claim_line_countf}\""
   ]
  },
  {
   "cell_type": "markdown",
   "id": "6c561b1e-e5cf-427d-aec7-4bfdd7d3eb56",
   "metadata": {},
   "source": [
    "#### Claims Charged, Allowed and Paid"
   ]
  },
  {
   "cell_type": "code",
   "execution_count": 35,
   "id": "966cc7b3-635b-41cf-b6bc-2f44b35a5627",
   "metadata": {
    "tags": []
   },
   "outputs": [
    {
     "data": {
      "text/plain": [
       "'The Total Claims Charged was $103,126,259.'"
      ]
     },
     "execution_count": 35,
     "metadata": {},
     "output_type": "execute_result"
    },
    {
     "data": {
      "text/plain": [
       "'The Total Claims Allowed was $37,350,128.'"
      ]
     },
     "execution_count": 35,
     "metadata": {},
     "output_type": "execute_result"
    },
    {
     "data": {
      "text/plain": [
       "'The Total Claims Paid was $33,818,426.'"
      ]
     },
     "execution_count": 35,
     "metadata": {},
     "output_type": "execute_result"
    }
   ],
   "source": [
    "\n",
    "charge = dfp.Charge.sum()\n",
    "chargef = '${:,.0f}'.format(charge)\n",
    "\n",
    "charge_allowed = dfp.Charge_Allowed.sum()\n",
    "charge_allowedf = '${:,.0f}'.format(charge_allowed)\n",
    "\n",
    "charge_paid = dfp.Charge_Paid.sum()\n",
    "charge_paidf = '${:,.0f}'.format(charge_paid)\n",
    "\n",
    "f\"The Total Claims Charged was {chargef}.\"\n",
    "f\"The Total Claims Allowed was {charge_allowedf}.\"\n",
    "f\"The Total Claims Paid was {charge_paidf}.\""
   ]
  },
  {
   "cell_type": "markdown",
   "id": "41e82cc7-84ae-4499-8418-2813b3e9b10b",
   "metadata": {},
   "source": [
    "#### Claims Count Processed by Month"
   ]
  },
  {
   "cell_type": "code",
   "execution_count": 121,
   "id": "91730c4a-48c1-4c4d-9854-b771e7094548",
   "metadata": {},
   "outputs": [
    {
     "data": {
      "image/png": "[encoded data removed]",
      "text/plain": [
       "<Figure size 432x288 with 1 Axes>"
      ]
     },
     "metadata": {
      "needs_background": "light"
     },
     "output_type": "display_data"
    }
   ],
   "source": [
    "\n",
    "formatter = '{x:,.0f}'\n",
    "\n",
    "dfp.groupby(\"Pay_Period\").Claim_ID.count().plot.bar()\n",
    "\n",
    "\n",
    "plt.title('Claims Processed by Period')\n",
    "plt.ylabel('Count')\n",
    "plt.gca().yaxis.set_major_formatter(formatter)\n",
    "\n",
    "\n",
    "plt.tight_layout()\n",
    "plt.show();"
   ]
  },
  {
   "cell_type": "code",
   "execution_count": 124,
   "id": "7105d83c-6d96-4752-9770-7e77c81faf84",
   "metadata": {},
   "outputs": [],
   "source": [
    "claimid_count = dfp.Claim_ID.value_counts()\n"
   ]
  },
  {
   "cell_type": "code",
   "execution_count": 129,
   "id": "e8ba3cd5-c7df-4c90-90fc-9c6c3cba7178",
   "metadata": {},
   "outputs": [
    {
     "data": {
      "image/png": "[encoded data removed]",
      "text/plain": [
       "<Figure size 576x576 with 2 Axes>"
      ]
     },
     "metadata": {
      "needs_background": "light"
     },
     "output_type": "display_data"
    }
   ],
   "source": [
    "# dfp.Claim_ID.value_counts().plot.hist()\n",
    "formatter = '{x:,.0f}'\n",
    "\n",
    "plt.style.use('seaborn-dark-palette')\n",
    "\n",
    "fig, (ax1, ax2) = plt.subplots(2,1, figsize=(8,8))\n",
    "\n",
    "\n",
    "ax1.hist(claimid_count, bins=25, edgecolor='w')\n",
    "ax2.hist(claimid_count, bins=25, log=True, edgecolor='w')\n",
    "\n",
    "\n",
    "ax1.set_title('Histogram Bins - Number of Claim Line Items')\n",
    "# ax1.set_xlabel('Bin')\n",
    "ax1.set_ylabel('Number of Line Items')\n",
    "ax1.yaxis.set_major_formatter(formatter)\n",
    "\n",
    "ax2.set_title('Histogram Bins - Number of Claim Line Items - Logrithmic')\n",
    "ax2.set_xlabel('BINS')\n",
    "ax2.set_ylabel('Number of Line Items')\n",
    "ax2.yaxis.set_major_formatter(formatter)\n",
    "\n",
    "plt.tight_layout()\n",
    "plt.show();"
   ]
  },
  {
   "cell_type": "code",
   "execution_count": null,
   "id": "ed168ba8-a814-4b07-871e-b9243decab69",
   "metadata": {},
   "outputs": [],
   "source": []
  },
  {
   "cell_type": "code",
   "execution_count": null,
   "id": "f10e177d-12d9-4632-9611-656a0da19997",
   "metadata": {},
   "outputs": [],
   "source": []
  },
  {
   "cell_type": "code",
   "execution_count": null,
   "id": "be83bd8a-cfda-497b-8830-73eeb8751961",
   "metadata": {},
   "outputs": [],
   "source": []
  },
  {
   "cell_type": "code",
   "execution_count": null,
   "id": "32a49b2c-e4c1-4f21-9ef0-a5bb557c9a90",
   "metadata": {},
   "outputs": [],
   "source": []
  },
  {
   "cell_type": "code",
   "execution_count": null,
   "id": "a286ea48-be9b-404c-945e-6b7c2bac7af0",
   "metadata": {},
   "outputs": [],
   "source": []
  },
  {
   "cell_type": "code",
   "execution_count": null,
   "id": "6f181ed4-eb6f-45cb-bbd7-6cacfcdb6db9",
   "metadata": {},
   "outputs": [],
   "source": []
  },
  {
   "cell_type": "code",
   "execution_count": null,
   "id": "a80279d7-8aeb-4ff2-a9ef-cdf8f6b31cab",
   "metadata": {},
   "outputs": [],
   "source": []
  },
  {
   "cell_type": "markdown",
   "id": "eac69c09-31dc-47f9-bbb6-456e1a90964a",
   "metadata": {},
   "source": [
    "[<a href='#Table-of-Contents'>Table of Contents</a>]"
   ]
  },
  {
   "cell_type": "code",
   "execution_count": 41,
   "id": "dbc0c562-1a40-44a1-8e9a-904360beff63",
   "metadata": {},
   "outputs": [],
   "source": [
    "# df.to_pickle('DataFiles/AnnualpickleApr28claim')\n",
    "winsound.Beep(freq,duration)"
   ]
  },
  {
   "cell_type": "code",
   "execution_count": null,
   "id": "71bb05f9-7cde-47e7-b497-5d284b5ee86b",
   "metadata": {},
   "outputs": [],
   "source": []
  },
  {
   "cell_type": "code",
   "execution_count": null,
   "id": "82d62b8c-169e-4641-873d-dc46173fe057",
   "metadata": {},
   "outputs": [],
   "source": []
  }
 ],
 "metadata": {
  "kernelspec": {
   "display_name": "Python 3 (ipykernel)",
   "language": "python",
   "name": "python3"
  },
  "language_info": {
   "codemirror_mode": {
    "name": "ipython",
    "version": 3
   },
   "file_extension": ".py",
   "mimetype": "text/x-python",
   "name": "python",
   "nbconvert_exporter": "python",
   "pygments_lexer": "ipython3",
   "version": "3.9.7"
  }
 },
 "nbformat": 4,
 "nbformat_minor": 5
}
