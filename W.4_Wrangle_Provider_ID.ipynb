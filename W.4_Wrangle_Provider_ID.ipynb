{
 "cells": [
  {
   "cell_type": "markdown",
   "id": "0678ffa2-3c47-42f0-b4bb-3eeb7a622bb6",
   "metadata": {},
   "source": [
    "## W.4 Wrangle Provider_ID"
   ]
  },
  {
   "cell_type": "markdown",
   "id": "f2653717-c1a6-45eb-bcea-94be0a461429",
   "metadata": {},
   "source": [
    "Observation:\n",
    "    There are 1,204 unique provider codes with various legacy naming conventions.  \n",
    "    \n",
    "Goal:\n",
    "    Assign new random numbers to each provider\n",
    "    "
   ]
  },
  {
   "cell_type": "markdown",
   "id": "6da8f86e-82af-4ea8-8eed-5ded9ffcdce1",
   "metadata": {},
   "source": [
    "### Table of Contents"
   ]
  },
  {
   "cell_type": "markdown",
   "id": "f58cb103-a242-4c11-b1c3-6b2068b5bdd1",
   "metadata": {},
   "source": [
    "1. <a href=\"#1.-Libraries-&-Environment\">Libraries & Environment</a>\n",
    "2. <a href=\"#2.-Settings\">Settings</a>\n",
    "3. <a href=\"#3.-Data-Source\">Data Source</a>\n",
    "4. <a href=\"#4.-Split-Prov_ID\">Split Prov_ID</a>\n",
    "5. <a href=\"#5.-Create-DataFrame-for-Prov_ID\">Create DataFrame for Prov_ID</a>\n",
    "6. <a href=\"#6.-Assign-New-ID-to-Prov_ID\">Assign New ID to Prov_ID</a>\n",
    "7. <a href=\"#7.-Create-Dictionary-and-Replace-Prov_ID\">Create Dictionary and Replace Prov_ID</a>\n",
    "8. <a href=\"#8.-Quality-Control\">Quality Control</a>\n",
    "\n"
   ]
  },
  {
   "cell_type": "markdown",
   "id": "ba79c31a-84e7-404f-8b9b-4bc11c193e5a",
   "metadata": {},
   "source": [
    "### 1. Libraries & Environment"
   ]
  },
  {
   "cell_type": "code",
   "execution_count": 2,
   "id": "4f63722b-f5b1-4163-bdbf-ea3638470347",
   "metadata": {
    "tags": []
   },
   "outputs": [],
   "source": [
    "import numpy as np\n",
    "import pandas as pd\n",
    "\n"
   ]
  },
  {
   "cell_type": "markdown",
   "id": "588ab1cc-0a99-494a-9356-32f8f49dd21f",
   "metadata": {},
   "source": [
    "[<a href='#Table-of-Contents'>Table of Contents</a>]"
   ]
  },
  {
   "cell_type": "markdown",
   "id": "58ea28f0-b3d3-4511-94fe-9ae8e76dcfb0",
   "metadata": {},
   "source": [
    "### 2. Settings"
   ]
  },
  {
   "cell_type": "code",
   "execution_count": 3,
   "id": "9204478c-9195-4d04-8d15-343efc7f1296",
   "metadata": {
    "tags": []
   },
   "outputs": [],
   "source": [
    "from IPython.core.interactiveshell import InteractiveShell\n",
    "InteractiveShell.ast_node_interactivity = \"all\"\n",
    "\n",
    "pd.options.display.width\n",
    "\n",
    "pd.set_option('display.max_rows', 500)\n",
    "pd.set_option('display.max_columns', 500)\n",
    "pd.set_option('display.width', 1000)\n",
    "\n",
    "pd.options.display.float_format = '{:,.0f}'.format\n",
    "\n",
    "import winsound\n",
    "duration = 1300\n",
    "freq = 440\n"
   ]
  },
  {
   "cell_type": "markdown",
   "id": "b5b6eb44-95d9-448d-87b2-3e520ddf74c3",
   "metadata": {},
   "source": [
    "[<a href='#Table-of-Contents'>Table of Contents</a>]"
   ]
  },
  {
   "cell_type": "markdown",
   "id": "23942249-fdd9-4870-998d-a266ffd37497",
   "metadata": {},
   "source": [
    "### 3. Data Source"
   ]
  },
  {
   "cell_type": "code",
   "execution_count": 4,
   "id": "ec0af2f1-399c-41d3-84df-f9c049806ca3",
   "metadata": {
    "tags": []
   },
   "outputs": [],
   "source": [
    "df = pd.read_pickle('DataFiles/AnnualpickleMar16')\n",
    "\n",
    "winsound.Beep(freq,duration)\n"
   ]
  },
  {
   "cell_type": "markdown",
   "id": "2b3e4f2f-9fc1-4c93-ae4e-1a9d39018a0e",
   "metadata": {},
   "source": [
    "[<a href='#Table-of-Contents'>Table of Contents</a>]"
   ]
  },
  {
   "cell_type": "markdown",
   "id": "52bed05d-09df-4145-b71e-2c29e31580ae",
   "metadata": {
    "tags": []
   },
   "source": [
    "\n",
    "### 4. Split Prov_ID\n"
   ]
  },
  {
   "cell_type": "code",
   "execution_count": 6,
   "id": "b8245130-2ed6-4962-8703-97ea403e617b",
   "metadata": {
    "tags": []
   },
   "outputs": [
    {
     "data": {
      "text/plain": [
       "dtype('O')"
      ]
     },
     "execution_count": 6,
     "metadata": {},
     "output_type": "execute_result"
    }
   ],
   "source": [
    "# Split Prov_ID string and retain numeric characters\n",
    "\n",
    "df.Prov_ID.dtype\n",
    "df.Prov_ID = df.Prov_ID.str.split('.').str.get(0)\n"
   ]
  },
  {
   "cell_type": "markdown",
   "id": "101f2a4e-a9bb-485b-a9a4-2a33214ce6f8",
   "metadata": {},
   "source": [
    "[<a href='#Table-of-Contents'>Table of Contents</a>]"
   ]
  },
  {
   "cell_type": "markdown",
   "id": "df6d73af-d2ff-4a61-97f1-854bc91076bc",
   "metadata": {},
   "source": [
    "\n",
    "### 5. Create DataFrame for Prov_ID"
   ]
  },
  {
   "cell_type": "code",
   "execution_count": null,
   "id": "0e2ba514-fa17-4047-b806-26c17ba4f1c1",
   "metadata": {
    "tags": []
   },
   "outputs": [],
   "source": [
    "# PURPOSE: Find unique ID and save to DataFrame\n",
    "\n",
    "df_ProvID = pd.DataFrame(df.Prov_ID.unique(), columns=['OLD'])\n"
   ]
  },
  {
   "cell_type": "markdown",
   "id": "db6eafae-3722-49b7-97fe-91c39fd01f90",
   "metadata": {},
   "source": [
    "[<a href='#Table-of-Contents'>Table of Contents</a>]"
   ]
  },
  {
   "cell_type": "markdown",
   "id": "202fc9cd-3e4f-4f5d-9977-df03239621ed",
   "metadata": {},
   "source": [
    "### 6. Assign New ID to Prov_ID\n",
    "\n",
    "$\\color{red}{\\text{CAUTION: DO NOT RUN RANDOM NUMBER FUNCTION!  Will reassign new IDs}}$.\n",
    "\n",
    "'''\n",
    "\n",
    "- import random\n",
    "- min = 10000\n",
    "- max = 999999\n",
    "\n",
    "\n",
    "  df_ProvID['NEW'] = [str(random.randint(min,max)) for i in range(len(df_ProvID))] # Get random number in range\n",
    "  df_ProvID['NEW'] = [(len(str(max))-len(digit))*'0'+digit for digit in df_ProvID['NEW']] # Fill in with 0's\n",
    "\n",
    "'''"
   ]
  },
  {
   "cell_type": "code",
   "execution_count": 9,
   "id": "d7118f64-0e90-4ca7-b116-5a57d901e4a2",
   "metadata": {},
   "outputs": [],
   "source": [
    "# PURPOSE: Assign new ID in new DataFrame using Random Number function.  See Code in Markdown cell above.\n",
    "\n",
    "df_ProvID.sort_values('NEW')\n",
    "df_ProvID.duplicaf_ProvID\n"
   ]
  },
  {
   "cell_type": "markdown",
   "id": "360ec088-c07f-40c9-b292-78219c751b72",
   "metadata": {},
   "source": [
    "[<a href='#Table-of-Contents'>Table of Contents</a>]"
   ]
  },
  {
   "cell_type": "markdown",
   "id": "36c26e5e-99b2-4fa3-af6d-b2543548a6bf",
   "metadata": {},
   "source": [
    "### 7. Create Dictionary and Replace Prov_ID\n"
   ]
  },
  {
   "cell_type": "code",
   "execution_count": null,
   "id": "faedae20-f190-4da0-adf8-cca0956d8e81",
   "metadata": {},
   "outputs": [],
   "source": [
    "# PURPOSE: Create Dictionary and replace IDs developed in Step #6\n",
    "\n",
    "dict_ProvID = df_ProvID.set_index('OLD').to_dict()['NEW']\n",
    "\n",
    "df.replace({'Prov_ID':dict_ProvID}, inplace = True)\n",
    "df.Prov_ID.nunique()\n",
    "df.Prov_ID.sort_values()\n"
   ]
  },
  {
   "cell_type": "markdown",
   "id": "6ce0dcfc-19b4-46da-bb39-2b1ccbd0b993",
   "metadata": {},
   "source": [
    "[<a href='#Table-of-Contents'>Table of Contents</a>]"
   ]
  },
  {
   "cell_type": "markdown",
   "id": "de54e984-02af-432b-97de-ba7cdf55043c",
   "metadata": {},
   "source": [
    "### 8. Quality Control"
   ]
  },
  {
   "cell_type": "code",
   "execution_count": 6,
   "id": "2ebdfa83-9781-4b04-b3cc-164a09494732",
   "metadata": {},
   "outputs": [
    {
     "data": {
      "text/plain": [
       "Prov_ID    011117\n",
       "dtype: object"
      ]
     },
     "execution_count": 6,
     "metadata": {},
     "output_type": "execute_result"
    },
    {
     "data": {
      "text/plain": [
       "Prov_ID    999590\n",
       "dtype: object"
      ]
     },
     "execution_count": 6,
     "metadata": {},
     "output_type": "execute_result"
    },
    {
     "data": {
      "text/html": [
       "<div>\n",
       "<style scoped>\n",
       "    .dataframe tbody tr th:only-of-type {\n",
       "        vertical-align: middle;\n",
       "    }\n",
       "\n",
       "    .dataframe tbody tr th {\n",
       "        vertical-align: top;\n",
       "    }\n",
       "\n",
       "    .dataframe thead th {\n",
       "        text-align: right;\n",
       "    }\n",
       "</style>\n",
       "<table border=\"1\" class=\"dataframe\">\n",
       "  <thead>\n",
       "    <tr style=\"text-align: right;\">\n",
       "      <th></th>\n",
       "      <th>Prov_ID</th>\n",
       "    </tr>\n",
       "    <tr>\n",
       "      <th>Index_Claim</th>\n",
       "      <th></th>\n",
       "    </tr>\n",
       "  </thead>\n",
       "  <tbody>\n",
       "    <tr>\n",
       "      <th>1</th>\n",
       "      <td>625296</td>\n",
       "    </tr>\n",
       "    <tr>\n",
       "      <th>2</th>\n",
       "      <td>625296</td>\n",
       "    </tr>\n",
       "    <tr>\n",
       "      <th>3</th>\n",
       "      <td>625296</td>\n",
       "    </tr>\n",
       "    <tr>\n",
       "      <th>4</th>\n",
       "      <td>625296</td>\n",
       "    </tr>\n",
       "    <tr>\n",
       "      <th>5</th>\n",
       "      <td>625296</td>\n",
       "    </tr>\n",
       "    <tr>\n",
       "      <th>...</th>\n",
       "      <td>...</td>\n",
       "    </tr>\n",
       "    <tr>\n",
       "      <th>295433</th>\n",
       "      <td>625296</td>\n",
       "    </tr>\n",
       "    <tr>\n",
       "      <th>295434</th>\n",
       "      <td>625296</td>\n",
       "    </tr>\n",
       "    <tr>\n",
       "      <th>295435</th>\n",
       "      <td>625296</td>\n",
       "    </tr>\n",
       "    <tr>\n",
       "      <th>295436</th>\n",
       "      <td>625296</td>\n",
       "    </tr>\n",
       "    <tr>\n",
       "      <th>295437</th>\n",
       "      <td>861170</td>\n",
       "    </tr>\n",
       "  </tbody>\n",
       "</table>\n",
       "<p>295437 rows × 1 columns</p>\n",
       "</div>"
      ],
      "text/plain": [
       "            Prov_ID\n",
       "Index_Claim        \n",
       "1            625296\n",
       "2            625296\n",
       "3            625296\n",
       "4            625296\n",
       "5            625296\n",
       "...             ...\n",
       "295433       625296\n",
       "295434       625296\n",
       "295435       625296\n",
       "295436       625296\n",
       "295437       861170\n",
       "\n",
       "[295437 rows x 1 columns]"
      ]
     },
     "execution_count": 6,
     "metadata": {},
     "output_type": "execute_result"
    }
   ],
   "source": [
    "# PURPOSE: Print output of Prov_ID statistics\n",
    "\n",
    "qc_Prov_ID = df.filter(['Prov_ID'])\n",
    "qc_Prov_ID.min()\n",
    "\n",
    "qc_Prov_ID.max()\n",
    "\n",
    "qc_Prov_ID"
   ]
  },
  {
   "cell_type": "markdown",
   "id": "aa6d5556-6e70-4eb4-a84d-5d5914e0d3b8",
   "metadata": {},
   "source": [
    "[<a href='#Table-of-Contents'>Table of Contents</a>]"
   ]
  },
  {
   "cell_type": "code",
   "execution_count": null,
   "id": "02c08dbf-80c9-41bf-8794-2e6407da3b15",
   "metadata": {},
   "outputs": [],
   "source": []
  },
  {
   "cell_type": "code",
   "execution_count": null,
   "id": "5cb643f5-1629-4486-a3fc-c70c497966a7",
   "metadata": {},
   "outputs": [],
   "source": []
  },
  {
   "cell_type": "code",
   "execution_count": 132,
   "id": "f8f038d3-1c32-4318-8b50-cb1c0f5aa97d",
   "metadata": {},
   "outputs": [],
   "source": [
    "\n",
    "df.to_pickle('DataFiles/AnnualpickleMar16')\n",
    "winsound.Beep(freq,duration)"
   ]
  },
  {
   "cell_type": "code",
   "execution_count": null,
   "id": "401661d8-0f42-4b20-a541-ba0707fb7452",
   "metadata": {},
   "outputs": [],
   "source": []
  }
 ],
 "metadata": {
  "kernelspec": {
   "display_name": "Python 3 (ipykernel)",
   "language": "python",
   "name": "python3"
  },
  "language_info": {
   "codemirror_mode": {
    "name": "ipython",
    "version": 3
   },
   "file_extension": ".py",
   "mimetype": "text/x-python",
   "name": "python",
   "nbconvert_exporter": "python",
   "pygments_lexer": "ipython3",
   "version": "3.10.13"
  },
  "toc-showcode": true,
  "toc-showtags": false
 },
 "nbformat": 4,
 "nbformat_minor": 5
}
