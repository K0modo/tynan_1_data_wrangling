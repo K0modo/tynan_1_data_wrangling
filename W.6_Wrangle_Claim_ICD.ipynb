{
 "cells": [
  {
   "cell_type": "markdown",
   "id": "0678ffa2-3c47-42f0-b4bb-3eeb7a622bb6",
   "metadata": {},
   "source": [
    "## W.6 Wrangle Claim_ICD"
   ]
  },
  {
   "cell_type": "markdown",
   "id": "f2653717-c1a6-45eb-bcea-94be0a461429",
   "metadata": {},
   "source": [
    "Observation: The International Classification of Diseases (ICD) is a classification system of diagnosis codes representing conditions and diseases. There are thousands of alpha/numeric codes organized in 22 disease sections/categories.  The database does not capture the codes by sections, making it difficult to track and measure activity by ICD codes.\n",
    "     \n",
    "    \n",
    "Goal: Extract alpha and numeric components of codes in existing database and categorize consistent with ICD.  If ICD code is missing it will be dropped.  In addition, ICD sub-fields will be dropped as it is extraneous to analytical objectives.\n",
    "    "
   ]
  },
  {
   "cell_type": "markdown",
   "id": "6da8f86e-82af-4ea8-8eed-5ded9ffcdce1",
   "metadata": {},
   "source": [
    "### Table of Contents"
   ]
  },
  {
   "cell_type": "markdown",
   "id": "f58cb103-a242-4c11-b1c3-6b2068b5bdd1",
   "metadata": {},
   "source": [
    "1. <a href=\"#1.-Libraries-&-Environment\">Libraries & Environment</a>\n",
    "2. <a href=\"#2.-Settings\">Settings</a>\n",
    "3. <a href=\"#3.-Data-Source\">Data Source</a>\n",
    "4. <a href=\"#4.-ICD-Codes\">ICD Codes</a>\n",
    "5. <a href=\"#5.-Create-ICD-Dictionary\">Create ICD Dictionary</a>\n",
    "6. <a href=\"#6.-Remove-Not-Applicable-Rows\">Remove Not Applicable Rows</a>\n",
    "7. <a href=\"#7.-Extract-ICD-Alpha-Code-Characters\">Extract ICD Alpha Code Characters</a>\n",
    "8. <a href=\"#8.-ICD-Alpha-to-Numeric-Dictionary-Map-and-Replace\">ICD Alpha-to-Numeric Dictionary Map and Replace</a>\n",
    "9. <a href=\"#9.-ICD-Code-Description\">ICD Code Description</a>\n",
    "10. <a href=\"#10.-Quality-Control\">Quality Control</a>\n"
   ]
  },
  {
   "cell_type": "markdown",
   "id": "6dbcfef1-937f-467b-8e37-eafdbf3b7e0b",
   "metadata": {},
   "source": []
  },
  {
   "cell_type": "markdown",
   "id": "ba79c31a-84e7-404f-8b9b-4bc11c193e5a",
   "metadata": {},
   "source": [
    "### 1. Libraries & Environment"
   ]
  },
  {
   "cell_type": "code",
   "execution_count": 1,
   "id": "4f63722b-f5b1-4163-bdbf-ea3638470347",
   "metadata": {
    "tags": []
   },
   "outputs": [],
   "source": [
    "import numpy as np\n",
    "import pandas as pd\n"
   ]
  },
  {
   "cell_type": "markdown",
   "id": "588ab1cc-0a99-494a-9356-32f8f49dd21f",
   "metadata": {},
   "source": [
    "[<a href='#Table-of-Contents'>Table of Contents</a>]"
   ]
  },
  {
   "cell_type": "markdown",
   "id": "58ea28f0-b3d3-4511-94fe-9ae8e76dcfb0",
   "metadata": {},
   "source": [
    "### 2. Settings"
   ]
  },
  {
   "cell_type": "code",
   "execution_count": 2,
   "id": "9204478c-9195-4d04-8d15-343efc7f1296",
   "metadata": {
    "tags": []
   },
   "outputs": [],
   "source": [
    "from IPython.core.interactiveshell import InteractiveShell\n",
    "InteractiveShell.ast_node_interactivity = \"all\"\n",
    "\n",
    "pd.options.display.width\n",
    "\n",
    "pd.set_option('display.max_rows', 500)\n",
    "pd.set_option('display.max_columns', 500)\n",
    "pd.set_option('display.width', 1000)\n",
    "\n",
    "pd.options.display.float_format = '{:,.0f}'.format\n",
    "\n",
    "import winsound\n",
    "duration = 1300\n",
    "freq = 440\n"
   ]
  },
  {
   "cell_type": "markdown",
   "id": "b5b6eb44-95d9-448d-87b2-3e520ddf74c3",
   "metadata": {},
   "source": [
    "[<a href='#Table-of-Contents'>Table of Contents</a>]"
   ]
  },
  {
   "cell_type": "markdown",
   "id": "23942249-fdd9-4870-998d-a266ffd37497",
   "metadata": {},
   "source": [
    "### 3. Data Source"
   ]
  },
  {
   "cell_type": "code",
   "execution_count": 3,
   "id": "ec0af2f1-399c-41d3-84df-f9c049806ca3",
   "metadata": {
    "tags": []
   },
   "outputs": [],
   "source": [
    "df = pd.read_pickle('DataFiles/AnnualpickleMar18')\n",
    "\n",
    "winsound.Beep(freq,duration)\n"
   ]
  },
  {
   "cell_type": "markdown",
   "id": "2b3e4f2f-9fc1-4c93-ae4e-1a9d39018a0e",
   "metadata": {},
   "source": [
    "[<a href='#Table-of-Contents'>Table of Contents</a>]"
   ]
  },
  {
   "cell_type": "markdown",
   "id": "52bed05d-09df-4145-b71e-2c29e31580ae",
   "metadata": {
    "tags": []
   },
   "source": [
    "\n",
    "### 4. ICD Codes\n"
   ]
  },
  {
   "cell_type": "markdown",
   "id": "49332888-410a-4466-863c-f9ecef26dbe8",
   "metadata": {
    "tags": []
   },
   "source": [
    "\n",
    "[<a href=\"https://www.aapc.com/codes/icd-10-codes-range/\">American Academy of Professional Coders ICD Code Website</a>]"
   ]
  },
  {
   "cell_type": "code",
   "execution_count": null,
   "id": "e4991ef2-bb68-45e3-8341-c3fd0c7318bb",
   "metadata": {
    "tags": []
   },
   "outputs": [],
   "source": [
    "# PURPOSE:  Prepare ICD Code Table with 22 Codes and ICD Category Name\n",
    "\n",
    "ICD_Code_Desc = \n",
    "\n",
    "pd.read_clipboard\n",
    "(\n",
    "1\tInfectiousDiseases\n",
    "2\tNeoplasms\n",
    "3\tBlood_Organs\n",
    "4\tEndocrine_Hormone\n",
    "5\tMental_NeuroDisoders\n",
    "6\tNervous_System\n",
    "7\tEye_Adnexa\n",
    "8\tEar_Mastoid\n",
    "9\tCirculatory\n",
    "10\tRespiratory\n",
    "11\tDigestive\n",
    "12\tSkin_Tissue\n",
    "13\tMusculoskeletal\n",
    "14\tGenitourinary\n",
    "15\tPregnancy\n",
    "16\tPregnancy\n",
    "17\tCongenital_Malformations\n",
    "18\tAbnormal_Discoveries\n",
    "19\tInjury_Poisoning\n",
    "20\tOther\n",
    "21\tOther\n",
    "22\tOther\n",
    ")\n"
   ]
  },
  {
   "cell_type": "markdown",
   "id": "101f2a4e-a9bb-485b-a9a4-2a33214ce6f8",
   "metadata": {},
   "source": [
    "[<a href='#Table-of-Contents'>Table of Contents</a>]"
   ]
  },
  {
   "cell_type": "markdown",
   "id": "df6d73af-d2ff-4a61-97f1-854bc91076bc",
   "metadata": {
    "tags": []
   },
   "source": [
    "### 5. Create ICD Dictionary"
   ]
  },
  {
   "cell_type": "code",
   "execution_count": null,
   "id": "67639bfa-4215-44b3-a173-f32569f00623",
   "metadata": {},
   "outputs": [],
   "source": [
    "# PURPOSE: Use numeric code (int) to map alpha codes in database to numeric \n",
    "# ICD codes.  Using datatype int will improve processing speed and flexibilty in machine\n",
    "# learning algorithms\n",
    "\n",
    "dict_ICD_Code_Desc = ICD_Code_Desc.set_index('Claim_ICD1.1').to_dict()['Claim_ICD_Cat']\n",
    "dict_ICD_Code_Desc"
   ]
  },
  {
   "cell_type": "markdown",
   "id": "ed8b055e-9aa6-438e-83d6-f4d36dcd2e9c",
   "metadata": {},
   "source": [
    "[<a href='#Table-of-Contents'>Table of Contents</a>]"
   ]
  },
  {
   "cell_type": "markdown",
   "id": "5f9b31f6-a2af-4391-ac34-a0f9a586ea52",
   "metadata": {},
   "source": [
    "### 6. Remove Not Applicable Rows"
   ]
  },
  {
   "cell_type": "code",
   "execution_count": 8,
   "id": "32d98f78-31ee-4f8b-af7c-5aacc3d4876b",
   "metadata": {},
   "outputs": [],
   "source": [
    "# PURPOSE:  Exclude pharma and NA rows.\n",
    "\n",
    "df = df.loc[(df['Claim_ICD1'] != 'PHA')]\n",
    "df = df.dropna()"
   ]
  },
  {
   "cell_type": "markdown",
   "id": "9f4cd3eb-6b5d-4dd0-82da-53d96b65113b",
   "metadata": {},
   "source": [
    "[<a href='#Table-of-Contents'>Table of Contents</a>]"
   ]
  },
  {
   "cell_type": "markdown",
   "id": "5aeecac3-518b-43d1-89e2-5023fe203989",
   "metadata": {},
   "source": [
    "### 7. Extract ICD Alpha Code Characters"
   ]
  },
  {
   "cell_type": "code",
   "execution_count": null,
   "id": "5e52cdd3-aea1-4b5f-a2c1-47531da41c89",
   "metadata": {},
   "outputs": [],
   "source": [
    "df['Claim_ICD1.1'] = df['Claim_ICD1'].str[0]"
   ]
  },
  {
   "cell_type": "markdown",
   "id": "969e7e58-2b0b-4112-8491-d34c71688327",
   "metadata": {},
   "source": [
    "[<a href='#Table-of-Contents'>Table of Contents</a>]"
   ]
  },
  {
   "cell_type": "markdown",
   "id": "b183a7ef-23d2-4e30-9eec-dd990f77cc00",
   "metadata": {},
   "source": [
    "### 8. ICD Alpha-to-Numeric Dictionary Map and Replace"
   ]
  },
  {
   "cell_type": "code",
   "execution_count": null,
   "id": "8eb36512-509a-4279-83fe-54ecf3944846",
   "metadata": {},
   "outputs": [],
   "source": [
    "# Identify \"key\" for Dictionary to map alpha to numberic and replace.\n",
    "\n",
    "df.Claim_ICD_1.value_counts().sort_index()\n",
    "\n",
    "ICD_dict= {\n",
    "    'A':1, 'B':1, 'C': 2, 'D':3,'E':4,'F':5,'G':6,'H':7,'H+':8,\n",
    "    'I':9,'J':10, 'K':11,'L':12,'M':13,'N':14,'O':15,'P':16,'Q':17,\n",
    "    'R':18,'S':19,'T':19,'U':22,'V':20,'W':20,'X':20,'Y':20,'Z':21}\n",
    "\n",
    "df = df.replace({'Claim_ICD1.1': ICD_dict})\n"
   ]
  },
  {
   "cell_type": "markdown",
   "id": "6ce0dcfc-19b4-46da-bb39-2b1ccbd0b993",
   "metadata": {},
   "source": [
    "[<a href='#Table-of-Contents'>Table of Contents</a>]"
   ]
  },
  {
   "cell_type": "markdown",
   "id": "4fd965cf-d9db-45e6-b68e-e14651a82ca5",
   "metadata": {},
   "source": [
    "### 9. ICD Code Description"
   ]
  },
  {
   "cell_type": "code",
   "execution_count": null,
   "id": "07a8c199-8c33-439c-8c57-3a866a7325f0",
   "metadata": {},
   "outputs": [],
   "source": [
    "# PURPOSE:  To map Code Descriptions to ICD numeric code\n",
    "\n",
    "df['Claim_ICD_Desc'] = df['Claim_ICD1.1'].map(ICD_Code_Desc)\n",
    "winsound.Beep(freq,duration)"
   ]
  },
  {
   "cell_type": "markdown",
   "id": "6b962d69-4280-4c45-ba66-5993a30f7e2a",
   "metadata": {},
   "source": [
    "[<a href='#Table-of-Contents'>Table of Contents</a>]"
   ]
  },
  {
   "cell_type": "markdown",
   "id": "de54e984-02af-432b-97de-ba7cdf55043c",
   "metadata": {},
   "source": [
    "### 10. Quality Control"
   ]
  },
  {
   "cell_type": "code",
   "execution_count": 11,
   "id": "2ebdfa83-9781-4b04-b3cc-164a09494732",
   "metadata": {},
   "outputs": [
    {
     "data": {
      "text/html": [
       "<div>\n",
       "<style scoped>\n",
       "    .dataframe tbody tr th:only-of-type {\n",
       "        vertical-align: middle;\n",
       "    }\n",
       "\n",
       "    .dataframe tbody tr th {\n",
       "        vertical-align: top;\n",
       "    }\n",
       "\n",
       "    .dataframe thead th {\n",
       "        text-align: right;\n",
       "    }\n",
       "</style>\n",
       "<table border=\"1\" class=\"dataframe\">\n",
       "  <thead>\n",
       "    <tr style=\"text-align: right;\">\n",
       "      <th></th>\n",
       "      <th>Claim_ICD1.1</th>\n",
       "      <th>Claim_ICD_Desc</th>\n",
       "    </tr>\n",
       "    <tr>\n",
       "      <th>Index_Claim</th>\n",
       "      <th></th>\n",
       "      <th></th>\n",
       "    </tr>\n",
       "  </thead>\n",
       "  <tbody>\n",
       "    <tr>\n",
       "      <th>12</th>\n",
       "      <td>14</td>\n",
       "      <td>Genitourinary</td>\n",
       "    </tr>\n",
       "    <tr>\n",
       "      <th>13</th>\n",
       "      <td>10</td>\n",
       "      <td>Respiratory</td>\n",
       "    </tr>\n",
       "    <tr>\n",
       "      <th>14</th>\n",
       "      <td>10</td>\n",
       "      <td>Respiratory</td>\n",
       "    </tr>\n",
       "    <tr>\n",
       "      <th>15</th>\n",
       "      <td>10</td>\n",
       "      <td>Respiratory</td>\n",
       "    </tr>\n",
       "    <tr>\n",
       "      <th>16</th>\n",
       "      <td>18</td>\n",
       "      <td>Abnormal_Discoveries</td>\n",
       "    </tr>\n",
       "    <tr>\n",
       "      <th>...</th>\n",
       "      <td>...</td>\n",
       "      <td>...</td>\n",
       "    </tr>\n",
       "    <tr>\n",
       "      <th>295377</th>\n",
       "      <td>21</td>\n",
       "      <td>Other</td>\n",
       "    </tr>\n",
       "    <tr>\n",
       "      <th>295378</th>\n",
       "      <td>21</td>\n",
       "      <td>Other</td>\n",
       "    </tr>\n",
       "    <tr>\n",
       "      <th>295379</th>\n",
       "      <td>21</td>\n",
       "      <td>Other</td>\n",
       "    </tr>\n",
       "    <tr>\n",
       "      <th>295380</th>\n",
       "      <td>5</td>\n",
       "      <td>Mental_NeuroDisoders</td>\n",
       "    </tr>\n",
       "    <tr>\n",
       "      <th>295381</th>\n",
       "      <td>2</td>\n",
       "      <td>Neoplasms</td>\n",
       "    </tr>\n",
       "  </tbody>\n",
       "</table>\n",
       "<p>278738 rows × 2 columns</p>\n",
       "</div>"
      ],
      "text/plain": [
       "            Claim_ICD1.1        Claim_ICD_Desc\n",
       "Index_Claim                                   \n",
       "12                    14         Genitourinary\n",
       "13                    10           Respiratory\n",
       "14                    10           Respiratory\n",
       "15                    10           Respiratory\n",
       "16                    18  Abnormal_Discoveries\n",
       "...                  ...                   ...\n",
       "295377                21                 Other\n",
       "295378                21                 Other\n",
       "295379                21                 Other\n",
       "295380                 5  Mental_NeuroDisoders\n",
       "295381                 2             Neoplasms\n",
       "\n",
       "[278738 rows x 2 columns]"
      ]
     },
     "execution_count": 11,
     "metadata": {},
     "output_type": "execute_result"
    }
   ],
   "source": [
    "qc_ICD = df.filter(['Claim_ICD1.1', 'Claim_ICD_Desc'])\n",
    "\n",
    "qc_ICD"
   ]
  },
  {
   "cell_type": "markdown",
   "id": "aa6d5556-6e70-4eb4-a84d-5d5914e0d3b8",
   "metadata": {},
   "source": [
    "[<a href='#Table-of-Contents'>Table of Contents</a>]"
   ]
  },
  {
   "cell_type": "code",
   "execution_count": null,
   "id": "02c08dbf-80c9-41bf-8794-2e6407da3b15",
   "metadata": {},
   "outputs": [],
   "source": []
  },
  {
   "cell_type": "code",
   "execution_count": null,
   "id": "5cb643f5-1629-4486-a3fc-c70c497966a7",
   "metadata": {},
   "outputs": [],
   "source": []
  },
  {
   "cell_type": "code",
   "execution_count": 132,
   "id": "f8f038d3-1c32-4318-8b50-cb1c0f5aa97d",
   "metadata": {},
   "outputs": [],
   "source": [
    "\n",
    "df.to_pickle('DataFiles/AnnualpickleMar16')\n",
    "winsound.Beep(freq,duration)"
   ]
  },
  {
   "cell_type": "code",
   "execution_count": null,
   "id": "401661d8-0f42-4b20-a541-ba0707fb7452",
   "metadata": {},
   "outputs": [],
   "source": []
  }
 ],
 "metadata": {
  "kernelspec": {
   "display_name": "Python 3 (ipykernel)",
   "language": "python",
   "name": "python3"
  },
  "language_info": {
   "codemirror_mode": {
    "name": "ipython",
    "version": 3
   },
   "file_extension": ".py",
   "mimetype": "text/x-python",
   "name": "python",
   "nbconvert_exporter": "python",
   "pygments_lexer": "ipython3",
   "version": "3.9.7"
  },
  "toc-showcode": true,
  "toc-showtags": false
 },
 "nbformat": 4,
 "nbformat_minor": 5
}
